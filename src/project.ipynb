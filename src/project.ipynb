{
 "cells": [
  {
   "cell_type": "code",
   "execution_count": 2,
   "metadata": {},
   "outputs": [],
   "source": [
    "import os\n",
    "import pandas as pd\n",
    "import pickle\n",
    "import numpy as np\n",
    "import matplotlib.pyplot as plt\n",
    "from datetime import datetime\n",
    "from tqdm import tqdm \n",
    "\n",
    "import torch\n",
    "import torch.nn.functional as F\n",
    "from torch.utils import data\n",
    "from torchinfo import summary\n",
    "import torch.nn as nn\n",
    "import torch.optim as optim"
   ]
  },
  {
   "cell_type": "markdown",
   "metadata": {},
   "source": [
    "### 一、数据处理与特征工程"
   ]
  },
  {
   "cell_type": "code",
   "execution_count": 21,
   "metadata": {},
   "outputs": [
    {
     "name": "stdout",
     "output_type": "stream",
     "text": [
      "Index(['date', 'time', 'sym', 'n_close', 'amount_delta', 'n_midprice',\n",
      "       'n_bid1', 'n_bsize1', 'n_bid2', 'n_bsize2', 'n_bid3', 'n_bsize3',\n",
      "       'n_bid4', 'n_bsize4', 'n_bid5', 'n_bsize5', 'n_ask1', 'n_asize1',\n",
      "       'n_ask2', 'n_asize2', 'n_ask3', 'n_asize3', 'n_ask4', 'n_asize4',\n",
      "       'n_ask5', 'n_asize5', 'label_5', 'label_10', 'label_20', 'label_40',\n",
      "       'label_60', 'bid1', 'bid2', 'bid3', 'bid4', 'bid5', 'ask1', 'ask2',\n",
      "       'ask3', 'ask4', 'ask5', 'spread1', 'spread2', 'spread3', 'mid_price1',\n",
      "       'mid_price2', 'mid_price3', 'weighted_ab1', 'weighted_ab2',\n",
      "       'weighted_ab3', 'relative_spread1', 'relative_spread2',\n",
      "       'relative_spread3', 'bsize1', 'bsize2', 'bsize3', 'bsize4', 'bsize5',\n",
      "       'asize1', 'asize2', 'asize3', 'asize4', 'asize5', 'amount',\n",
      "       'vol1_rel_diff', 'volall_rel_diff'],\n",
      "      dtype='object')\n",
      "66\n",
      "(1999, 66)\n",
      "train_df.shape (1999, 37)\n",
      "val_df.shape (1999, 37)\n",
      "test_df.shape (1999, 37)\n",
      "          bid1    bsize1      bid2    bsize2      bid3    bsize3      bid4  \\\n",
      "0     1.015130  0.019425  1.014850  0.009924  1.014570  0.004975  1.014290   \n",
      "1     1.015130  0.033670  1.014850  0.010254  1.014570  0.004975  1.014290   \n",
      "2     1.015130  0.031095  1.014850  0.009760  1.014570  0.004975  1.014290   \n",
      "3     1.015410  0.004147  1.015130  0.020240  1.014850  0.009760  1.014570   \n",
      "4     1.014290  0.089008  1.014010  0.000499  1.013729  0.007061  1.013449   \n",
      "...        ...       ...       ...       ...       ...       ...       ...   \n",
      "1994  1.007845  0.001163  1.007565  0.011733  1.007285  0.005140  1.007005   \n",
      "1995  1.007845  0.000332  1.007565  0.011733  1.007285  0.005140  1.007005   \n",
      "1996  1.008686  0.000535  1.007845  0.000665  1.007565  0.011733  1.007285   \n",
      "1997  1.007845  0.001495  1.007565  0.011733  1.007285  0.005140  1.007005   \n",
      "1998  1.008406  0.000831  1.007845  0.001495  1.007565  0.011733  1.007285   \n",
      "\n",
      "        bsize4      bid5    bsize5  ...  weighted_ab2  weighted_ab3    amount  \\\n",
      "0     0.106644  1.014010  0.000499  ...      1.015038      1.014636  3.293944   \n",
      "1     0.106644  1.014010  0.000499  ...      1.014950      1.014721  2.237848   \n",
      "2     0.106644  1.014010  0.000499  ...      1.014965      1.014632  1.046642   \n",
      "3     0.004975  1.014290  0.109926  ...      1.015264      1.015078  1.791836   \n",
      "4     0.038321  1.013169  0.103935  ...      1.014057      1.013767  2.936850   \n",
      "...        ...       ...       ...  ...           ...           ...       ...   \n",
      "1994  0.049615  1.006725  0.030451  ...      1.008212      1.008914  0.765965   \n",
      "1995  0.049615  1.006725  0.030451  ...      1.008168      1.008914  0.307264   \n",
      "1996  0.005140  1.007005  0.049615  ...      1.007864      1.008030  1.500466   \n",
      "1997  0.049615  1.006725  0.029483  ...      1.007892      1.007553  0.437003   \n",
      "1998  0.005471  1.007005  0.049615  ...      1.007887      1.008030  0.224742   \n",
      "\n",
      "      vol1_rel_diff  volall_rel_diff  label_5  label_10  label_20  label_40  \\\n",
      "0          0.761194        -0.408197      1.0       0.0       0.0       0.0   \n",
      "1          0.078534        -0.532728      0.0       0.0       0.0       0.0   \n",
      "2          0.681416        -0.422637      1.0       0.0       0.0       0.0   \n",
      "3         -0.971331        -0.670832      0.0       0.0       0.0       0.0   \n",
      "4          0.475626        -0.375666      1.0       0.0       0.0       0.0   \n",
      "...             ...              ...      ...       ...       ...       ...   \n",
      "1994      -0.608720         0.012424      1.0       1.0       1.0       1.0   \n",
      "1995      -0.874135         0.004847      1.0       1.0       1.0       1.0   \n",
      "1996       0.526066        -0.472967      1.0       0.0       1.0       1.0   \n",
      "1997      -0.173554        -0.322841      2.0       0.0       1.0       1.0   \n",
      "1998      -0.366286        -0.466079      1.0       0.0       1.0       1.0   \n",
      "\n",
      "      label_60  \n",
      "0          0.0  \n",
      "1          0.0  \n",
      "2          0.0  \n",
      "3          0.0  \n",
      "4          0.0  \n",
      "...        ...  \n",
      "1994       1.0  \n",
      "1995       1.0  \n",
      "1996       1.0  \n",
      "1997       1.0  \n",
      "1998       1.0  \n",
      "\n",
      "[1999 rows x 37 columns]\n"
     ]
    }
   ],
   "source": [
    "file_dir = \"../data/raw/\"\n",
    "\n",
    "syms = list(range(1))\n",
    "dates = list(range(79))\n",
    "times = ['am', 'pm']\n",
    "train_df = pd.DataFrame()\n",
    "val_df = pd.DataFrame()\n",
    "test_df = pd.DataFrame()\n",
    "\n",
    "columns_need = ['bid1','bsize1',\n",
    "                'bid2','bsize2',\n",
    "                'bid3','bsize3',\n",
    "                'bid4','bsize4',\n",
    "                'bid5','bsize5',\n",
    "                'ask1','asize1',\n",
    "                'ask2','asize2',\n",
    "                'ask3','asize3',\n",
    "                'ask4','asize4',\n",
    "                'ask5','asize5',\n",
    "                'spread1','mid_price1',\n",
    "                'spread2','mid_price2',\n",
    "                'spread3','mid_price3',\n",
    "                'weighted_ab1','weighted_ab2','weighted_ab3','amount',\n",
    "                'vol1_rel_diff','volall_rel_diff','label_5','label_10','label_20','label_40','label_60', \n",
    "               ]\n",
    "\n",
    "for sym in syms:\n",
    "    for date in dates:\n",
    "        for time in times:  \n",
    "            file_name = f\"snapshot_sym{sym}_date{date}_{time}.csv\"\n",
    "            if not os.path.isfile(os.path.join(file_dir,file_name)):\n",
    "                continue\n",
    "            new_df = pd.read_csv(os.path.join(file_dir,file_name))\n",
    "\n",
    "            # 价格+1（从涨跌幅还原到对前收盘价的比例）\n",
    "            new_df['bid1'] = new_df['n_bid1']+1\n",
    "            new_df['bid2'] = new_df['n_bid2']+1\n",
    "            new_df['bid3'] = new_df['n_bid3']+1\n",
    "            new_df['bid4'] = new_df['n_bid4']+1\n",
    "            new_df['bid5'] = new_df['n_bid5']+1\n",
    "            new_df['ask1'] = new_df['n_ask1']+1\n",
    "            new_df['ask2'] = new_df['n_ask2']+1\n",
    "            new_df['ask3'] = new_df['n_ask3']+1\n",
    "            new_df['ask4'] = new_df['n_ask4']+1\n",
    "            new_df['ask5'] = new_df['n_ask5']+1\n",
    "    \n",
    "            # 量价组合\n",
    "            new_df['spread1'] =  new_df['ask1'] - new_df['bid1']\n",
    "            new_df['spread2'] =  new_df['ask2'] - new_df['bid2']\n",
    "            new_df['spread3'] =  new_df['ask3'] - new_df['bid3']\n",
    "            new_df['mid_price1'] =  new_df['ask1'] + new_df['bid1']\n",
    "            new_df['mid_price2'] =  new_df['ask2'] + new_df['bid2']\n",
    "            new_df['mid_price3'] =  new_df['ask3'] + new_df['bid3']\n",
    "            new_df['weighted_ab1'] = (new_df['ask1'] * new_df['n_bsize1'] + new_df['bid1'] * new_df['n_asize1']) / (new_df['n_bsize1'] + new_df['n_asize1'])\n",
    "            new_df['weighted_ab2'] = (new_df['ask2'] * new_df['n_bsize2'] + new_df['bid2'] * new_df['n_asize2']) / (new_df['n_bsize2'] + new_df['n_asize2'])\n",
    "            new_df['weighted_ab3'] = (new_df['ask3'] * new_df['n_bsize3'] + new_df['bid3'] * new_df['n_asize3']) / (new_df['n_bsize3'] + new_df['n_asize3'])\n",
    "\n",
    "            new_df['relative_spread1'] = new_df['spread1'] / new_df['mid_price1']\n",
    "            new_df['relative_spread2'] = new_df['spread2'] / new_df['mid_price2']\n",
    "            new_df['relative_spread3'] = new_df['spread3'] / new_df['mid_price3']\n",
    "            \n",
    "            # 对量取对数\n",
    "            new_df['bsize1'] = (new_df['n_bsize1']*10000).map(np.log1p)\n",
    "            new_df['bsize2'] = (new_df['n_bsize2']*10000).map(np.log1p)\n",
    "            new_df['bsize3'] = (new_df['n_bsize3']*10000).map(np.log1p)\n",
    "            new_df['bsize4'] = (new_df['n_bsize4']*10000).map(np.log1p)\n",
    "            new_df['bsize5'] = (new_df['n_bsize5']*10000).map(np.log1p)\n",
    "            new_df['asize1'] = (new_df['n_asize1']*10000).map(np.log1p)\n",
    "            new_df['asize2'] = (new_df['n_asize2']*10000).map(np.log1p)\n",
    "            new_df['asize3'] = (new_df['n_asize3']*10000).map(np.log1p)\n",
    "            new_df['asize4'] = (new_df['n_asize4']*10000).map(np.log1p)\n",
    "            new_df['asize5'] = (new_df['n_asize5']*10000).map(np.log1p)\n",
    "            new_df['amount'] = (new_df['amount_delta']/100000).map(np.log1p)\n",
    "            \n",
    "            new_df['vol1_rel_diff']   = (new_df['n_bsize1'] - new_df['n_asize1']) / (new_df['n_bsize1'] + new_df['n_asize1'])\n",
    "            new_df['volall_rel_diff'] = (new_df['n_bsize1'] + new_df['n_bsize2'] + new_df['n_bsize3'] + new_df['n_bsize4'] + new_df['n_bsize5'] \\\n",
    "                             - new_df['n_asize1'] - new_df['n_asize2'] - new_df['n_asize3'] - new_df['n_asize4'] - new_df['n_asize5'] ) / \\\n",
    "                             ( new_df['n_bsize1'] + new_df['n_bsize2'] + new_df['n_bsize3'] + new_df['n_bsize4'] + new_df['n_bsize5'] \\\n",
    "                             + new_df['n_asize1'] + new_df['n_asize2'] + new_df['n_asize3'] + new_df['n_asize4'] + new_df['n_asize5'] )\n",
    "\n",
    "            print(new_df.columns)\n",
    "            print(len(new_df.columns))\n",
    "            print(new_df.shape)\n",
    "            # gfdkg\n",
    "\n",
    "            train_df = pd.concat([train_df, new_df[columns_need]])\n",
    "            print(\"train_df.shape\",train_df.shape)\n",
    "            val_df = pd.concat([val_df, new_df[columns_need]])\n",
    "            print(\"val_df.shape\",val_df.shape)\n",
    "            test_df = pd.concat([test_df, new_df[columns_need]])\n",
    "            print(\"test_df.shape\",test_df.shape)\n",
    "            break\n",
    "        break\n",
    "    break\n",
    "print(train_df)"
   ]
  },
  {
   "cell_type": "code",
   "execution_count": 22,
   "metadata": {},
   "outputs": [],
   "source": [
    "feature_col_names = ['bid1','bsize1',\n",
    "                    'bid2','bsize2',\n",
    "                    'bid3','bsize3',\n",
    "                    'bid4','bsize4',\n",
    "                    'bid5','bsize5',\n",
    "                    'ask1','asize1',\n",
    "                    'ask2','asize2',\n",
    "                    'ask3','asize3',\n",
    "                    'ask4','asize4',\n",
    "                    'ask5','asize5',\n",
    "                    'spread1','mid_price1',\n",
    "                    'spread2','mid_price2',\n",
    "                    'spread3','mid_price3',\n",
    "                    'weighted_ab1','weighted_ab2','weighted_ab3','amount',\n",
    "                    'vol1_rel_diff','volall_rel_diff']\n",
    "label1_col_name = ['label_5']\n",
    "label2_col_name = ['label_10']\n",
    "label3_col_name = ['label_20']\n",
    "label4_col_name = ['label_40']\n",
    "label5_col_name = ['label_60']"
   ]
  },
  {
   "cell_type": "markdown",
   "metadata": {},
   "source": [
    "## 二、构建dataset"
   ]
  },
  {
   "cell_type": "code",
   "execution_count": 23,
   "metadata": {},
   "outputs": [
    {
     "name": "stdout",
     "output_type": "stream",
     "text": [
      "(1999, 37)\n",
      "(1999, 32)\n",
      "cuda:0\n",
      "data.shape (1999, 32)\n",
      "self.x.shape torch.Size([1900, 1, 100, 32])\n",
      "self.y.shape torch.Size([1900])\n",
      "data.shape (1999, 32)\n",
      "self.x.shape torch.Size([1900, 1, 100, 32])\n",
      "self.y.shape torch.Size([1900])\n",
      "data.shape (1999, 32)\n",
      "self.x.shape torch.Size([1900, 1, 100, 32])\n",
      "self.y.shape torch.Size([1900])\n",
      "data.shape (1999, 32)\n",
      "self.x.shape torch.Size([1900, 1, 100, 32])\n",
      "self.y.shape torch.Size([1900])\n",
      "data.shape (1999, 32)\n",
      "self.x.shape torch.Size([1900, 1, 100, 32])\n",
      "self.y.shape torch.Size([1900])\n",
      "data.shape (1999, 32)\n",
      "self.x.shape torch.Size([1900, 1, 100, 32])\n",
      "self.y.shape torch.Size([1900])\n",
      "data.shape (1999, 32)\n",
      "self.x.shape torch.Size([1900, 1, 100, 32])\n",
      "self.y.shape torch.Size([1900])\n",
      "data.shape (1999, 32)\n",
      "self.x.shape torch.Size([1900, 1, 100, 32])\n",
      "self.y.shape torch.Size([1900])\n",
      "data.shape (1999, 32)\n",
      "self.x.shape torch.Size([1900, 1, 100, 32])\n",
      "self.y.shape torch.Size([1900])\n",
      "data.shape (1999, 32)\n",
      "self.x.shape torch.Size([1900, 1, 100, 32])\n",
      "self.y.shape torch.Size([1900])\n",
      "data.shape (1999, 32)\n",
      "self.x.shape torch.Size([1900, 1, 100, 32])\n",
      "self.y.shape torch.Size([1900])\n",
      "data.shape (1999, 32)\n",
      "self.x.shape torch.Size([1900, 1, 100, 32])\n",
      "self.y.shape torch.Size([1900])\n",
      "data.shape (1999, 32)\n",
      "self.x.shape torch.Size([1900, 1, 100, 32])\n",
      "self.y.shape torch.Size([1900])\n",
      "data.shape (1999, 32)\n",
      "self.x.shape torch.Size([1900, 1, 100, 32])\n",
      "self.y.shape torch.Size([1900])\n",
      "data.shape (1999, 32)\n",
      "self.x.shape torch.Size([1900, 1, 100, 32])\n",
      "self.y.shape torch.Size([1900])\n"
     ]
    }
   ],
   "source": [
    "print(train_df.shape)\n",
    "train_data = np.ascontiguousarray(train_df[feature_col_names].values)\n",
    "print(train_data.shape)\n",
    "# fsdk\n",
    "train_label1 = train_df[label1_col_name].values.reshape(-1)\n",
    "train_label2 = train_df[label2_col_name].values.reshape(-1)\n",
    "train_label3 = train_df[label3_col_name].values.reshape(-1)\n",
    "train_label4 = train_df[label4_col_name].values.reshape(-1)\n",
    "train_label5 = train_df[label5_col_name].values.reshape(-1)\n",
    "\n",
    "val_data = np.ascontiguousarray(val_df[feature_col_names].values)\n",
    "val_label1 = val_df[label1_col_name].values.reshape(-1)\n",
    "val_label2 = val_df[label2_col_name].values.reshape(-1)\n",
    "val_label3 = val_df[label3_col_name].values.reshape(-1)\n",
    "val_label4 = val_df[label4_col_name].values.reshape(-1)\n",
    "val_label5 = val_df[label5_col_name].values.reshape(-1)\n",
    "\n",
    "test_data = np.ascontiguousarray(test_df[feature_col_names].values)\n",
    "test_label1 = test_df[label1_col_name].values.reshape(-1)\n",
    "test_label2 = test_df[label2_col_name].values.reshape(-1)\n",
    "test_label3 = test_df[label3_col_name].values.reshape(-1)\n",
    "test_label4 = test_df[label4_col_name].values.reshape(-1)\n",
    "test_label5 = test_df[label5_col_name].values.reshape(-1)\n",
    "\n",
    "device = torch.device(\"cuda:0\" if torch.cuda.is_available() else \"cpu\")\n",
    "print(device)\n",
    "\n",
    "from torch.utils import data\n",
    "\n",
    "def data_transform(X, T):\n",
    "    [N, D] = X.shape\n",
    "    dataX = np.zeros((N - T + 1, T, D))\n",
    "    for i in range(T, N + 1):\n",
    "        dataX[i - T] = X[i - T:i, :]\n",
    "    return dataX\n",
    "\n",
    "class Dataset(data.Dataset):\n",
    "    def __init__(self, data, label, T):\n",
    "        self.T = T\n",
    "        print(\"data.shape\",data.shape)\n",
    "\n",
    "        data = data_transform(data, self.T)\n",
    "\n",
    "        self.x = torch.tensor(data).to(torch.float32).unsqueeze(1).to(device)\n",
    "        print(\"self.x.shape\",self.x.shape)\n",
    "\n",
    "        self.y = torch.tensor(label[T - 1:].astype(np.int64)).to(device)\n",
    "        print(\"self.y.shape\",self.y.shape)\n",
    "    \n",
    "        self.length = len(self.x)\n",
    "\n",
    "    def __len__(self):\n",
    "        return self.length\n",
    "\n",
    "    def __getitem__(self, index):\n",
    "        return self.x[index], self.y[index]\n",
    "    \n",
    "batch_size = 512\n",
    "\n",
    "for i in range(1, 6):\n",
    "    globals()[f'dataset_train{i}'] = Dataset(data=train_data, label=globals()[f'train_label{i}'], T=100)\n",
    "    globals()[f'dataset_val{i}'] = Dataset(data=val_data, label=globals()[f'val_label{i}'], T=100)\n",
    "    globals()[f'dataset_test{i}'] = Dataset(data=test_data, label=globals()[f'test_label{i}'], T=100)\n",
    "\n",
    "for i in range(1, 6):\n",
    "    globals()[f'train_loader{i}'] = torch.utils.data.DataLoader(dataset=globals()[f'dataset_train{i}'], batch_size=batch_size, shuffle=True)\n",
    "    globals()[f'val_loader{i}'] = torch.utils.data.DataLoader(dataset=globals()[f'dataset_val{i}'], batch_size=batch_size, shuffle=True)\n",
    "    globals()[f'test_loader{i}'] = torch.utils.data.DataLoader(dataset=globals()[f'dataset_test{i}'], batch_size=batch_size, shuffle=True)"
   ]
  },
  {
   "cell_type": "markdown",
   "metadata": {},
   "source": [
    "## 三、定义模型"
   ]
  },
  {
   "cell_type": "code",
   "execution_count": 24,
   "metadata": {},
   "outputs": [
    {
     "data": {
      "text/plain": [
       "==========================================================================================\n",
       "Layer (type:depth-idx)                   Output Shape              Param #\n",
       "==========================================================================================\n",
       "deeplob                                  --                        --\n",
       "├─Sequential: 1-1                        [1, 32, 47, 16]           --\n",
       "│    └─Conv2d: 2-1                       [1, 32, 100, 16]          96\n",
       "│    └─LeakyReLU: 2-2                    [1, 32, 100, 16]          --\n",
       "│    └─BatchNorm2d: 2-3                  [1, 32, 100, 16]          64\n",
       "│    └─Conv2d: 2-4                       [1, 32, 97, 16]           4,128\n",
       "│    └─LeakyReLU: 2-5                    [1, 32, 97, 16]           --\n",
       "│    └─BatchNorm2d: 2-6                  [1, 32, 97, 16]           64\n",
       "│    └─Conv2d: 2-7                       [1, 32, 47, 16]           5,152\n",
       "│    └─LeakyReLU: 2-8                    [1, 32, 47, 16]           --\n",
       "│    └─BatchNorm2d: 2-9                  [1, 32, 47, 16]           64\n",
       "├─Sequential: 1-2                        [1, 32, 21, 8]            --\n",
       "│    └─Conv2d: 2-10                      [1, 32, 47, 8]            2,080\n",
       "│    └─Tanh: 2-11                        [1, 32, 47, 8]            --\n",
       "│    └─BatchNorm2d: 2-12                 [1, 32, 47, 8]            64\n",
       "│    └─Conv2d: 2-13                      [1, 32, 44, 8]            4,128\n",
       "│    └─Tanh: 2-14                        [1, 32, 44, 8]            --\n",
       "│    └─BatchNorm2d: 2-15                 [1, 32, 44, 8]            64\n",
       "│    └─Conv2d: 2-16                      [1, 32, 21, 8]            4,128\n",
       "│    └─Tanh: 2-17                        [1, 32, 21, 8]            --\n",
       "│    └─BatchNorm2d: 2-18                 [1, 32, 21, 8]            64\n",
       "├─Sequential: 1-3                        [1, 32, 8, 1]             --\n",
       "│    └─Conv2d: 2-19                      [1, 32, 21, 1]            8,224\n",
       "│    └─LeakyReLU: 2-20                   [1, 32, 21, 1]            --\n",
       "│    └─BatchNorm2d: 2-21                 [1, 32, 21, 1]            64\n",
       "│    └─Conv2d: 2-22                      [1, 32, 18, 1]            4,128\n",
       "│    └─LeakyReLU: 2-23                   [1, 32, 18, 1]            --\n",
       "│    └─BatchNorm2d: 2-24                 [1, 32, 18, 1]            64\n",
       "│    └─Conv2d: 2-25                      [1, 32, 8, 1]             4,128\n",
       "│    └─LeakyReLU: 2-26                   [1, 32, 8, 1]             --\n",
       "│    └─BatchNorm2d: 2-27                 [1, 32, 8, 1]             64\n",
       "├─Sequential: 1-4                        [1, 16, 8, 1]             --\n",
       "│    └─Conv2d: 2-28                      [1, 64, 8, 1]             2,112\n",
       "│    └─LeakyReLU: 2-29                   [1, 64, 8, 1]             --\n",
       "│    └─BatchNorm2d: 2-30                 [1, 64, 8, 1]             128\n",
       "│    └─Conv2d: 2-31                      [1, 16, 8, 1]             3,088\n",
       "│    └─LeakyReLU: 2-32                   [1, 16, 8, 1]             --\n",
       "│    └─BatchNorm2d: 2-33                 [1, 16, 8, 1]             32\n",
       "├─Sequential: 1-5                        [1, 16, 8, 1]             --\n",
       "│    └─Conv2d: 2-34                      [1, 64, 8, 1]             2,112\n",
       "│    └─LeakyReLU: 2-35                   [1, 64, 8, 1]             --\n",
       "│    └─BatchNorm2d: 2-36                 [1, 64, 8, 1]             128\n",
       "│    └─Conv2d: 2-37                      [1, 16, 8, 1]             5,136\n",
       "│    └─LeakyReLU: 2-38                   [1, 16, 8, 1]             --\n",
       "│    └─BatchNorm2d: 2-39                 [1, 16, 8, 1]             32\n",
       "├─Sequential: 1-6                        [1, 16, 8, 1]             --\n",
       "│    └─MaxPool2d: 2-40                   [1, 32, 8, 1]             --\n",
       "│    └─Conv2d: 2-41                      [1, 16, 8, 1]             528\n",
       "│    └─LeakyReLU: 2-42                   [1, 16, 8, 1]             --\n",
       "│    └─BatchNorm2d: 2-43                 [1, 16, 8, 1]             32\n",
       "├─Sequential: 1-7                        [1, 3]                    --\n",
       "│    └─Linear: 2-44                      [1, 64]                   24,640\n",
       "│    └─Linear: 2-45                      [1, 3]                    195\n",
       "==========================================================================================\n",
       "Total params: 74,931\n",
       "Trainable params: 74,931\n",
       "Non-trainable params: 0\n",
       "Total mult-adds (M): 13.77\n",
       "==========================================================================================\n",
       "Input size (MB): 0.01\n",
       "Forward/backward pass size (MB): 2.50\n",
       "Params size (MB): 0.30\n",
       "Estimated Total Size (MB): 2.82\n",
       "=========================================================================================="
      ]
     },
     "execution_count": 24,
     "metadata": {},
     "output_type": "execute_result"
    }
   ],
   "source": [
    "class deeplob(nn.Module):\n",
    "    def __init__(self, num_classes):\n",
    "        super().__init__()\n",
    "        self.num_classes = num_classes\n",
    "        \n",
    "        # convolution blocks\n",
    "        self.conv1 = nn.Sequential(\n",
    "            nn.Conv2d(in_channels=1, out_channels=32, kernel_size=(1,2), stride=(1,2)),\n",
    "            nn.LeakyReLU(negative_slope=0.01),\n",
    "#             nn.Tanh(),\n",
    "            nn.BatchNorm2d(32),\n",
    "            nn.Conv2d(in_channels=32, out_channels=32, kernel_size=(4,1)),\n",
    "            nn.LeakyReLU(negative_slope=0.01),\n",
    "            nn.BatchNorm2d(32),\n",
    "            nn.Conv2d(in_channels=32, out_channels=32, kernel_size=(5,1),stride=(2,1)),\n",
    "            nn.LeakyReLU(negative_slope=0.01),\n",
    "            nn.BatchNorm2d(32),\n",
    "        )\n",
    "        self.conv2 = nn.Sequential(\n",
    "            nn.Conv2d(in_channels=32, out_channels=32, kernel_size=(1,2), stride=(1,2)),\n",
    "            nn.Tanh(),\n",
    "            nn.BatchNorm2d(32),\n",
    "            nn.Conv2d(in_channels=32, out_channels=32, kernel_size=(4,1)),\n",
    "            nn.Tanh(),\n",
    "            nn.BatchNorm2d(32),\n",
    "            nn.Conv2d(in_channels=32, out_channels=32, kernel_size=(4,1),stride=(2,1)),\n",
    "            nn.Tanh(),\n",
    "            nn.BatchNorm2d(32),\n",
    "        )\n",
    "        self.conv3 = nn.Sequential(\n",
    "            nn.Conv2d(in_channels=32, out_channels=32, kernel_size=(1,8)),\n",
    "            nn.LeakyReLU(negative_slope=0.01),\n",
    "            nn.BatchNorm2d(32),\n",
    "            nn.Conv2d(in_channels=32, out_channels=32, kernel_size=(4,1)),\n",
    "            nn.LeakyReLU(negative_slope=0.01),\n",
    "            nn.BatchNorm2d(32),\n",
    "            nn.Conv2d(in_channels=32, out_channels=32, kernel_size=(4,1),stride=(2,1)),\n",
    "            nn.LeakyReLU(negative_slope=0.01),\n",
    "            nn.BatchNorm2d(32),\n",
    "        )\n",
    "        \n",
    "        # inception moduels\n",
    "        self.inp1 = nn.Sequential(\n",
    "            nn.Conv2d(in_channels=32, out_channels=64, kernel_size=(1,1), padding='same'),\n",
    "            nn.LeakyReLU(negative_slope=0.01),\n",
    "            nn.BatchNorm2d(64),\n",
    "            nn.Conv2d(in_channels=64, out_channels=16, kernel_size=(3,1), padding='same'),\n",
    "            nn.LeakyReLU(negative_slope=0.01),\n",
    "            nn.BatchNorm2d(16),\n",
    "        )\n",
    "        self.inp2 = nn.Sequential(\n",
    "            nn.Conv2d(in_channels=32, out_channels=64, kernel_size=(1,1), padding='same'),\n",
    "            nn.LeakyReLU(negative_slope=0.01),\n",
    "            nn.BatchNorm2d(64),\n",
    "            nn.Conv2d(in_channels=64, out_channels=16, kernel_size=(5,1), padding='same'),\n",
    "            nn.LeakyReLU(negative_slope=0.01),\n",
    "            nn.BatchNorm2d(16),\n",
    "        )\n",
    "        self.inp3 = nn.Sequential(\n",
    "            nn.MaxPool2d((3, 1), stride=(1, 1), padding=(1, 0)),\n",
    "            nn.Conv2d(in_channels=32, out_channels=16, kernel_size=(1,1), padding='same'),\n",
    "            nn.LeakyReLU(negative_slope=0.01),\n",
    "            nn.BatchNorm2d(16),\n",
    "        )\n",
    "       \n",
    "        # lstm layers\n",
    "        # self.lstm = nn.LSTM(input_size=192, hidden_size=64, num_layers=1, batch_first=True)\n",
    "        # self.fc1 = nn.Linear(64, self.y_len)\n",
    "        self.fc = nn.Sequential(nn.Linear(384, 64),nn.Linear(64, self.num_classes))\n",
    "\n",
    "    def forward(self, x):\n",
    "        x = self.conv1(x)\n",
    "        x = self.conv2(x)\n",
    "        x = self.conv3(x)\n",
    "\n",
    "        x_inp1 = self.inp1(x)\n",
    "        x_inp2 = self.inp2(x)\n",
    "        x_inp3 = self.inp3(x)\n",
    "\n",
    "        x = torch.cat((x_inp1, x_inp2, x_inp3), dim=1)\n",
    "\n",
    "        x = x.reshape(-1,48*8)\n",
    "        x = self.fc(x)\n",
    "\n",
    "        forecast_y = torch.softmax(x, dim=1)\n",
    "\n",
    "        return forecast_y\n",
    "    \n",
    "\n",
    "model = deeplob(num_classes = 3)\n",
    "model.to(device)\n",
    "summary(model, (1, 1, 100, 32))"
   ]
  },
  {
   "cell_type": "markdown",
   "metadata": {},
   "source": [
    "## 四、训练模型"
   ]
  },
  {
   "cell_type": "code",
   "execution_count": 26,
   "metadata": {},
   "outputs": [
    {
     "name": "stderr",
     "output_type": "stream",
     "text": [
      "  2%|▏         | 1/50 [00:00<00:43,  1.11it/s]"
     ]
    },
    {
     "name": "stdout",
     "output_type": "stream",
     "text": [
      "model saved\n",
      "Epoch 1/50, Train Loss: 0.8126,           Validation Loss: 0.8100, Duration: 0:00:00.896533, Best Val Epoch: 0\n"
     ]
    },
    {
     "name": "stderr",
     "output_type": "stream",
     "text": [
      "  4%|▍         | 2/50 [00:01<00:37,  1.27it/s]"
     ]
    },
    {
     "name": "stdout",
     "output_type": "stream",
     "text": [
      "Epoch 2/50, Train Loss: 0.8109,           Validation Loss: 0.8111, Duration: 0:00:00.703717, Best Val Epoch: 0\n"
     ]
    },
    {
     "name": "stderr",
     "output_type": "stream",
     "text": [
      "  6%|▌         | 3/50 [00:02<00:35,  1.34it/s]"
     ]
    },
    {
     "name": "stdout",
     "output_type": "stream",
     "text": [
      "model saved\n",
      "Epoch 3/50, Train Loss: 0.8077,           Validation Loss: 0.8037, Duration: 0:00:00.704009, Best Val Epoch: 2\n"
     ]
    },
    {
     "name": "stderr",
     "output_type": "stream",
     "text": [
      "  8%|▊         | 4/50 [00:03<00:33,  1.38it/s]"
     ]
    },
    {
     "name": "stdout",
     "output_type": "stream",
     "text": [
      "Epoch 4/50, Train Loss: 0.8036,           Validation Loss: 0.8156, Duration: 0:00:00.693947, Best Val Epoch: 2\n"
     ]
    },
    {
     "name": "stderr",
     "output_type": "stream",
     "text": [
      " 10%|█         | 5/50 [00:03<00:32,  1.39it/s]"
     ]
    },
    {
     "name": "stdout",
     "output_type": "stream",
     "text": [
      "model saved\n",
      "Epoch 5/50, Train Loss: 0.8010,           Validation Loss: 0.7943, Duration: 0:00:00.711483, Best Val Epoch: 4\n"
     ]
    },
    {
     "name": "stderr",
     "output_type": "stream",
     "text": [
      " 12%|█▏        | 6/50 [00:04<00:31,  1.40it/s]"
     ]
    },
    {
     "name": "stdout",
     "output_type": "stream",
     "text": [
      "Epoch 6/50, Train Loss: 0.7959,           Validation Loss: 0.8028, Duration: 0:00:00.701021, Best Val Epoch: 4\n"
     ]
    },
    {
     "name": "stderr",
     "output_type": "stream",
     "text": [
      " 14%|█▍        | 7/50 [00:05<00:30,  1.41it/s]"
     ]
    },
    {
     "name": "stdout",
     "output_type": "stream",
     "text": [
      "model saved\n",
      "Epoch 7/50, Train Loss: 0.7916,           Validation Loss: 0.7906, Duration: 0:00:00.697388, Best Val Epoch: 6\n"
     ]
    },
    {
     "name": "stderr",
     "output_type": "stream",
     "text": [
      " 16%|█▌        | 8/50 [00:05<00:30,  1.40it/s]"
     ]
    },
    {
     "name": "stdout",
     "output_type": "stream",
     "text": [
      "Epoch 8/50, Train Loss: 0.7879,           Validation Loss: 0.7969, Duration: 0:00:00.726853, Best Val Epoch: 6\n"
     ]
    },
    {
     "name": "stderr",
     "output_type": "stream",
     "text": [
      " 18%|█▊        | 9/50 [00:06<00:29,  1.41it/s]"
     ]
    },
    {
     "name": "stdout",
     "output_type": "stream",
     "text": [
      "Epoch 9/50, Train Loss: 0.7838,           Validation Loss: 0.8022, Duration: 0:00:00.688669, Best Val Epoch: 6\n"
     ]
    },
    {
     "name": "stderr",
     "output_type": "stream",
     "text": [
      " 20%|██        | 10/50 [00:07<00:28,  1.41it/s]"
     ]
    },
    {
     "name": "stdout",
     "output_type": "stream",
     "text": [
      "model saved\n",
      "Epoch 10/50, Train Loss: 0.7783,           Validation Loss: 0.7898, Duration: 0:00:00.715719, Best Val Epoch: 9\n"
     ]
    },
    {
     "name": "stderr",
     "output_type": "stream",
     "text": [
      " 22%|██▏       | 11/50 [00:07<00:27,  1.41it/s]"
     ]
    },
    {
     "name": "stdout",
     "output_type": "stream",
     "text": [
      "model saved\n",
      "Epoch 11/50, Train Loss: 0.7741,           Validation Loss: 0.7769, Duration: 0:00:00.703220, Best Val Epoch: 10\n"
     ]
    },
    {
     "name": "stderr",
     "output_type": "stream",
     "text": [
      " 24%|██▍       | 12/50 [00:08<00:26,  1.41it/s]"
     ]
    },
    {
     "name": "stdout",
     "output_type": "stream",
     "text": [
      "model saved\n",
      "Epoch 12/50, Train Loss: 0.7706,           Validation Loss: 0.7769, Duration: 0:00:00.701601, Best Val Epoch: 11\n"
     ]
    },
    {
     "name": "stderr",
     "output_type": "stream",
     "text": [
      " 26%|██▌       | 13/50 [00:09<00:26,  1.41it/s]"
     ]
    },
    {
     "name": "stdout",
     "output_type": "stream",
     "text": [
      "model saved\n",
      "Epoch 13/50, Train Loss: 0.7654,           Validation Loss: 0.7583, Duration: 0:00:00.713563, Best Val Epoch: 12\n"
     ]
    },
    {
     "name": "stderr",
     "output_type": "stream",
     "text": [
      " 28%|██▊       | 14/50 [00:10<00:25,  1.42it/s]"
     ]
    },
    {
     "name": "stdout",
     "output_type": "stream",
     "text": [
      "Epoch 14/50, Train Loss: 0.7606,           Validation Loss: 0.7817, Duration: 0:00:00.691686, Best Val Epoch: 12\n"
     ]
    },
    {
     "name": "stderr",
     "output_type": "stream",
     "text": [
      " 30%|███       | 15/50 [00:10<00:24,  1.43it/s]"
     ]
    },
    {
     "name": "stdout",
     "output_type": "stream",
     "text": [
      "Epoch 15/50, Train Loss: 0.7573,           Validation Loss: 0.7796, Duration: 0:00:00.689694, Best Val Epoch: 12\n"
     ]
    },
    {
     "name": "stderr",
     "output_type": "stream",
     "text": [
      " 32%|███▏      | 16/50 [00:11<00:23,  1.43it/s]"
     ]
    },
    {
     "name": "stdout",
     "output_type": "stream",
     "text": [
      "Epoch 16/50, Train Loss: 0.7584,           Validation Loss: 0.7924, Duration: 0:00:00.691735, Best Val Epoch: 12\n"
     ]
    },
    {
     "name": "stderr",
     "output_type": "stream",
     "text": [
      " 34%|███▍      | 17/50 [00:12<00:22,  1.44it/s]"
     ]
    },
    {
     "name": "stdout",
     "output_type": "stream",
     "text": [
      "Epoch 17/50, Train Loss: 0.7533,           Validation Loss: 0.7744, Duration: 0:00:00.691059, Best Val Epoch: 12\n"
     ]
    },
    {
     "name": "stderr",
     "output_type": "stream",
     "text": [
      " 36%|███▌      | 18/50 [00:12<00:22,  1.42it/s]"
     ]
    },
    {
     "name": "stdout",
     "output_type": "stream",
     "text": [
      "Epoch 18/50, Train Loss: 0.7496,           Validation Loss: 0.7774, Duration: 0:00:00.718940, Best Val Epoch: 12\n"
     ]
    },
    {
     "name": "stderr",
     "output_type": "stream",
     "text": [
      " 38%|███▊      | 19/50 [00:13<00:21,  1.42it/s]"
     ]
    },
    {
     "name": "stdout",
     "output_type": "stream",
     "text": [
      "model saved\n",
      "Epoch 19/50, Train Loss: 0.7444,           Validation Loss: 0.7415, Duration: 0:00:00.700810, Best Val Epoch: 18\n"
     ]
    },
    {
     "name": "stderr",
     "output_type": "stream",
     "text": [
      " 40%|████      | 20/50 [00:14<00:20,  1.43it/s]"
     ]
    },
    {
     "name": "stdout",
     "output_type": "stream",
     "text": [
      "Epoch 20/50, Train Loss: 0.7420,           Validation Loss: 0.7619, Duration: 0:00:00.690599, Best Val Epoch: 18\n"
     ]
    },
    {
     "name": "stderr",
     "output_type": "stream",
     "text": [
      " 42%|████▏     | 21/50 [00:14<00:20,  1.43it/s]"
     ]
    },
    {
     "name": "stdout",
     "output_type": "stream",
     "text": [
      "model saved\n",
      "Epoch 21/50, Train Loss: 0.7373,           Validation Loss: 0.7405, Duration: 0:00:00.701304, Best Val Epoch: 20\n"
     ]
    },
    {
     "name": "stderr",
     "output_type": "stream",
     "text": [
      " 44%|████▍     | 22/50 [00:15<00:20,  1.36it/s]"
     ]
    },
    {
     "name": "stdout",
     "output_type": "stream",
     "text": [
      "model saved\n",
      "Epoch 22/50, Train Loss: 0.7367,           Validation Loss: 0.7351, Duration: 0:00:00.822774, Best Val Epoch: 21\n"
     ]
    },
    {
     "name": "stderr",
     "output_type": "stream",
     "text": [
      " 46%|████▌     | 23/50 [00:16<00:19,  1.38it/s]"
     ]
    },
    {
     "name": "stdout",
     "output_type": "stream",
     "text": [
      "model saved\n",
      "Epoch 23/50, Train Loss: 0.7303,           Validation Loss: 0.7314, Duration: 0:00:00.699300, Best Val Epoch: 22\n"
     ]
    },
    {
     "name": "stderr",
     "output_type": "stream",
     "text": [
      " 48%|████▊     | 24/50 [00:17<00:18,  1.40it/s]"
     ]
    },
    {
     "name": "stdout",
     "output_type": "stream",
     "text": [
      "Epoch 24/50, Train Loss: 0.7271,           Validation Loss: 0.7345, Duration: 0:00:00.690562, Best Val Epoch: 22\n"
     ]
    },
    {
     "name": "stderr",
     "output_type": "stream",
     "text": [
      " 50%|█████     | 25/50 [00:17<00:17,  1.41it/s]"
     ]
    },
    {
     "name": "stdout",
     "output_type": "stream",
     "text": [
      "Epoch 25/50, Train Loss: 0.7227,           Validation Loss: 0.7385, Duration: 0:00:00.693317, Best Val Epoch: 22\n"
     ]
    },
    {
     "name": "stderr",
     "output_type": "stream",
     "text": [
      " 52%|█████▏    | 26/50 [00:18<00:16,  1.41it/s]"
     ]
    },
    {
     "name": "stdout",
     "output_type": "stream",
     "text": [
      "model saved\n",
      "Epoch 26/50, Train Loss: 0.7230,           Validation Loss: 0.7244, Duration: 0:00:00.703030, Best Val Epoch: 25\n"
     ]
    },
    {
     "name": "stderr",
     "output_type": "stream",
     "text": [
      " 54%|█████▍    | 27/50 [00:19<00:16,  1.42it/s]"
     ]
    },
    {
     "name": "stdout",
     "output_type": "stream",
     "text": [
      "Epoch 27/50, Train Loss: 0.7184,           Validation Loss: 0.7245, Duration: 0:00:00.700353, Best Val Epoch: 25\n"
     ]
    },
    {
     "name": "stderr",
     "output_type": "stream",
     "text": [
      " 56%|█████▌    | 28/50 [00:19<00:15,  1.42it/s]"
     ]
    },
    {
     "name": "stdout",
     "output_type": "stream",
     "text": [
      "Epoch 28/50, Train Loss: 0.7175,           Validation Loss: 0.7310, Duration: 0:00:00.692367, Best Val Epoch: 25\n"
     ]
    },
    {
     "name": "stderr",
     "output_type": "stream",
     "text": [
      " 58%|█████▊    | 29/50 [00:20<00:14,  1.40it/s]"
     ]
    },
    {
     "name": "stdout",
     "output_type": "stream",
     "text": [
      "Epoch 29/50, Train Loss: 0.7138,           Validation Loss: 0.7337, Duration: 0:00:00.733410, Best Val Epoch: 25\n"
     ]
    },
    {
     "name": "stderr",
     "output_type": "stream",
     "text": [
      " 60%|██████    | 30/50 [00:21<00:14,  1.41it/s]"
     ]
    },
    {
     "name": "stdout",
     "output_type": "stream",
     "text": [
      "model saved\n",
      "Epoch 30/50, Train Loss: 0.7118,           Validation Loss: 0.7232, Duration: 0:00:00.706904, Best Val Epoch: 29\n"
     ]
    },
    {
     "name": "stderr",
     "output_type": "stream",
     "text": [
      " 62%|██████▏   | 31/50 [00:22<00:13,  1.40it/s]"
     ]
    },
    {
     "name": "stdout",
     "output_type": "stream",
     "text": [
      "model saved\n",
      "Epoch 31/50, Train Loss: 0.7091,           Validation Loss: 0.7098, Duration: 0:00:00.727307, Best Val Epoch: 30\n"
     ]
    },
    {
     "name": "stderr",
     "output_type": "stream",
     "text": [
      " 64%|██████▍   | 32/50 [00:22<00:12,  1.40it/s]"
     ]
    },
    {
     "name": "stdout",
     "output_type": "stream",
     "text": [
      "Epoch 32/50, Train Loss: 0.7072,           Validation Loss: 0.7151, Duration: 0:00:00.702756, Best Val Epoch: 30\n"
     ]
    },
    {
     "name": "stderr",
     "output_type": "stream",
     "text": [
      " 66%|██████▌   | 33/50 [00:23<00:12,  1.38it/s]"
     ]
    },
    {
     "name": "stdout",
     "output_type": "stream",
     "text": [
      "Epoch 33/50, Train Loss: 0.7059,           Validation Loss: 0.7151, Duration: 0:00:00.744748, Best Val Epoch: 30\n"
     ]
    },
    {
     "name": "stderr",
     "output_type": "stream",
     "text": [
      " 68%|██████▊   | 34/50 [00:24<00:11,  1.37it/s]"
     ]
    },
    {
     "name": "stdout",
     "output_type": "stream",
     "text": [
      "Epoch 34/50, Train Loss: 0.7032,           Validation Loss: 0.7268, Duration: 0:00:00.742971, Best Val Epoch: 30\n"
     ]
    },
    {
     "name": "stderr",
     "output_type": "stream",
     "text": [
      " 70%|███████   | 35/50 [00:25<00:10,  1.37it/s]"
     ]
    },
    {
     "name": "stdout",
     "output_type": "stream",
     "text": [
      "Epoch 35/50, Train Loss: 0.7012,           Validation Loss: 0.7157, Duration: 0:00:00.728175, Best Val Epoch: 30\n"
     ]
    },
    {
     "name": "stderr",
     "output_type": "stream",
     "text": [
      " 72%|███████▏  | 36/50 [00:25<00:10,  1.37it/s]"
     ]
    },
    {
     "name": "stdout",
     "output_type": "stream",
     "text": [
      "model saved\n",
      "Epoch 36/50, Train Loss: 0.7005,           Validation Loss: 0.7037, Duration: 0:00:00.730404, Best Val Epoch: 35\n"
     ]
    },
    {
     "name": "stderr",
     "output_type": "stream",
     "text": [
      " 74%|███████▍  | 37/50 [00:26<00:09,  1.38it/s]"
     ]
    },
    {
     "name": "stdout",
     "output_type": "stream",
     "text": [
      "model saved\n",
      "Epoch 37/50, Train Loss: 0.6955,           Validation Loss: 0.7003, Duration: 0:00:00.710937, Best Val Epoch: 36\n"
     ]
    },
    {
     "name": "stderr",
     "output_type": "stream",
     "text": [
      " 76%|███████▌  | 38/50 [00:27<00:08,  1.40it/s]"
     ]
    },
    {
     "name": "stdout",
     "output_type": "stream",
     "text": [
      "Epoch 38/50, Train Loss: 0.6941,           Validation Loss: 0.7029, Duration: 0:00:00.693271, Best Val Epoch: 36\n"
     ]
    },
    {
     "name": "stderr",
     "output_type": "stream",
     "text": [
      " 78%|███████▊  | 39/50 [00:27<00:07,  1.40it/s]"
     ]
    },
    {
     "name": "stdout",
     "output_type": "stream",
     "text": [
      "model saved\n",
      "Epoch 39/50, Train Loss: 0.6920,           Validation Loss: 0.6950, Duration: 0:00:00.711317, Best Val Epoch: 38\n"
     ]
    },
    {
     "name": "stderr",
     "output_type": "stream",
     "text": [
      " 80%|████████  | 40/50 [00:28<00:07,  1.41it/s]"
     ]
    },
    {
     "name": "stdout",
     "output_type": "stream",
     "text": [
      "Epoch 40/50, Train Loss: 0.6890,           Validation Loss: 0.7276, Duration: 0:00:00.690234, Best Val Epoch: 38\n"
     ]
    },
    {
     "name": "stderr",
     "output_type": "stream",
     "text": [
      " 82%|████████▏ | 41/50 [00:29<00:06,  1.42it/s]"
     ]
    },
    {
     "name": "stdout",
     "output_type": "stream",
     "text": [
      "Epoch 41/50, Train Loss: 0.6896,           Validation Loss: 0.7000, Duration: 0:00:00.693226, Best Val Epoch: 38\n"
     ]
    },
    {
     "name": "stderr",
     "output_type": "stream",
     "text": [
      " 84%|████████▍ | 42/50 [00:30<00:05,  1.36it/s]"
     ]
    },
    {
     "name": "stdout",
     "output_type": "stream",
     "text": [
      "model saved\n",
      "Epoch 42/50, Train Loss: 0.6881,           Validation Loss: 0.6901, Duration: 0:00:00.807363, Best Val Epoch: 41\n"
     ]
    },
    {
     "name": "stderr",
     "output_type": "stream",
     "text": [
      " 86%|████████▌ | 43/50 [00:30<00:05,  1.38it/s]"
     ]
    },
    {
     "name": "stdout",
     "output_type": "stream",
     "text": [
      "Epoch 43/50, Train Loss: 0.6858,           Validation Loss: 0.6903, Duration: 0:00:00.692593, Best Val Epoch: 41\n"
     ]
    },
    {
     "name": "stderr",
     "output_type": "stream",
     "text": [
      " 88%|████████▊ | 44/50 [00:31<00:04,  1.39it/s]"
     ]
    },
    {
     "name": "stdout",
     "output_type": "stream",
     "text": [
      "model saved\n",
      "Epoch 44/50, Train Loss: 0.6825,           Validation Loss: 0.6842, Duration: 0:00:00.710663, Best Val Epoch: 43\n"
     ]
    },
    {
     "name": "stderr",
     "output_type": "stream",
     "text": [
      " 90%|█████████ | 45/50 [00:32<00:03,  1.40it/s]"
     ]
    },
    {
     "name": "stdout",
     "output_type": "stream",
     "text": [
      "Epoch 45/50, Train Loss: 0.6809,           Validation Loss: 0.6883, Duration: 0:00:00.695153, Best Val Epoch: 43\n"
     ]
    },
    {
     "name": "stderr",
     "output_type": "stream",
     "text": [
      " 92%|█████████▏| 46/50 [00:32<00:02,  1.41it/s]"
     ]
    },
    {
     "name": "stdout",
     "output_type": "stream",
     "text": [
      "model saved\n",
      "Epoch 46/50, Train Loss: 0.6787,           Validation Loss: 0.6813, Duration: 0:00:00.700199, Best Val Epoch: 45\n"
     ]
    },
    {
     "name": "stderr",
     "output_type": "stream",
     "text": [
      " 94%|█████████▍| 47/50 [00:33<00:02,  1.42it/s]"
     ]
    },
    {
     "name": "stdout",
     "output_type": "stream",
     "text": [
      "Epoch 47/50, Train Loss: 0.6787,           Validation Loss: 0.6844, Duration: 0:00:00.691616, Best Val Epoch: 45\n"
     ]
    },
    {
     "name": "stderr",
     "output_type": "stream",
     "text": [
      " 96%|█████████▌| 48/50 [00:34<00:01,  1.42it/s]"
     ]
    },
    {
     "name": "stdout",
     "output_type": "stream",
     "text": [
      "Epoch 48/50, Train Loss: 0.6775,           Validation Loss: 0.7013, Duration: 0:00:00.694653, Best Val Epoch: 45\n"
     ]
    },
    {
     "name": "stderr",
     "output_type": "stream",
     "text": [
      " 98%|█████████▊| 49/50 [00:35<00:00,  1.39it/s]"
     ]
    },
    {
     "name": "stdout",
     "output_type": "stream",
     "text": [
      "Epoch 49/50, Train Loss: 0.6755,           Validation Loss: 0.6837, Duration: 0:00:00.754181, Best Val Epoch: 45\n"
     ]
    },
    {
     "name": "stderr",
     "output_type": "stream",
     "text": [
      "100%|██████████| 50/50 [00:35<00:00,  1.40it/s]"
     ]
    },
    {
     "name": "stdout",
     "output_type": "stream",
     "text": [
      "Epoch 50/50, Train Loss: 0.6740,           Validation Loss: 0.6925, Duration: 0:00:00.731652, Best Val Epoch: 45\n"
     ]
    },
    {
     "name": "stderr",
     "output_type": "stream",
     "text": [
      "\n"
     ]
    }
   ],
   "source": [
    "criterion = nn.CrossEntropyLoss()\n",
    "optimizer = torch.optim.SGD(model.parameters(), lr=0.001, momentum=0.9, weight_decay = 1e-5)\n",
    "\n",
    "def batch_gd(model, criterion, optimizer, train_loader, test_loader, epochs):\n",
    "    \n",
    "    train_losses = np.zeros(epochs)\n",
    "    test_losses = np.zeros(epochs)\n",
    "    best_test_loss = np.inf\n",
    "    best_test_epoch = 0\n",
    "\n",
    "    for it in tqdm(range(epochs)):\n",
    "        if ((epochs+1) % 10 == 0):\n",
    "            optimizer.lr = optimizer.lr*0.5\n",
    "        model.train()\n",
    "        t0 = datetime.now()\n",
    "        train_loss = []\n",
    "        for inputs, targets in train_loader:\n",
    "            optimizer.zero_grad()\n",
    "            \n",
    "            outputs = model(inputs)\n",
    "\n",
    "            loss = criterion(outputs, targets)\n",
    "\n",
    "            loss.backward()\n",
    "            \n",
    "            optimizer.step()\n",
    "            \n",
    "            train_loss.append(loss.item())\n",
    "            \n",
    "        # Get train loss and test loss\n",
    "        train_loss = np.mean(train_loss) # a little misleading\n",
    "    \n",
    "        model.eval()\n",
    "        test_loss = []\n",
    "        for inputs, targets in test_loader:\n",
    "            inputs, targets = inputs.to(device, dtype=torch.float), targets.to(device, dtype=torch.int64)      \n",
    "            outputs = model(inputs)\n",
    "            loss = criterion(outputs, targets)\n",
    "            test_loss.append(loss.item())\n",
    "        test_loss = np.mean(test_loss)\n",
    "\n",
    "        # Save losses\n",
    "        train_losses[it] = train_loss\n",
    "        test_losses[it] = test_loss\n",
    "        \n",
    "        if test_loss < best_test_loss:\n",
    "            torch.save(model, f'../weight/deeplob/best_val_model_pytorch_sym{sym}_date{dates[-1]}')\n",
    "            best_test_loss = test_loss\n",
    "            best_test_epoch = it\n",
    "            print('model saved')\n",
    "\n",
    "        dt = datetime.now() - t0\n",
    "        print(f'Epoch {it+1}/{epochs}, Train Loss: {train_loss:.4f}, \\\n",
    "          Validation Loss: {test_loss:.4f}, Duration: {dt}, Best Val Epoch: {best_test_epoch}')\n",
    "    torch.save(model, f'../weight/deeplob/final_model_pytorch_sym{sym}_date{dates[-1]}')\n",
    "    return train_losses, test_losses\n",
    "\n",
    "train_losses, val_losses = batch_gd(model, criterion, optimizer, \n",
    "                                    train_loader1, val_loader1, epochs=50)"
   ]
  }
 ],
 "metadata": {
  "interpreter": {
   "hash": "240bc028caeb8b02ff80d8aedfc61caf7a0e4db2770780d40c5b717508bae340"
  },
  "kernelspec": {
   "display_name": "Python 3.7.9 ('pytorch')",
   "language": "python",
   "name": "python3"
  },
  "language_info": {
   "codemirror_mode": {
    "name": "ipython",
    "version": 3
   },
   "file_extension": ".py",
   "mimetype": "text/x-python",
   "name": "python",
   "nbconvert_exporter": "python",
   "pygments_lexer": "ipython3",
   "version": "3.7.9"
  }
 },
 "nbformat": 4,
 "nbformat_minor": 4
}
